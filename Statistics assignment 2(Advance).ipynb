{
 "cells": [
  {
   "cell_type": "raw",
   "id": "ad88739e-b0ef-4e55-96b3-43bcda59e069",
   "metadata": {},
   "source": [
    "Q1: What is Estimation Statistics? Explain point estimate and interval estimate.\n",
    "\n",
    "Ans--"
   ]
  },
  {
   "cell_type": "markdown",
   "id": "fbbeeed5-d50d-4f1c-9834-6362c1e10114",
   "metadata": {},
   "source": [
    "Estimation statistics is a branch of statistics that deals with estimating unknown population parameters based on sample data. When it is not feasible or practical to measure an entire population, researchers collect data from a representative sample and use various statistical methods to estimate the population parameters.\n",
    "\n",
    "There are two main types of estimation: point estimation and interval estimation.\n",
    "\n",
    "1.Point Estimate:\n",
    "\n",
    "A point estimate is a single value that serves as the best guess or approximation of an unknown population parameter. It is obtained from the sample data and is used to estimate the true value of the parameter. For example, if we want to estimate the population mean (μ) based on a sample, the sample mean (x̄) is often used as the point estimate for μ. Similarly, if we want to estimate the population proportion (p), the sample proportion (p̂) is used as the point estimate for p.\n",
    "\n",
    "Point estimates provide a straightforward and simple estimate of the parameter but do not give any information about the accuracy or reliability of the estimate. This is where interval estimation comes into play.\n",
    "\n",
    "2.Interval Estimate:\n",
    "\n",
    "An interval estimate, also known as a confidence interval, provides a range of values within which the true population parameter is likely to lie, along with a level of confidence associated with that range. It takes into account the uncertainty in the estimation process.\n",
    "For example, instead of just providing a single point estimate for the population mean, we can give a confidence interval, say, 95% confidence interval (CI). This interval will be calculated from the sample data and will provide a range within which we are 95% confident that the true population mean lies. It can be represented as (lower bound, upper bound).\n",
    "\n",
    "The margin of error, sample size, and the chosen confidence level all play a role in determining the width of the interval. A higher confidence level, such as 95% or 99%, will result in a wider interval, providing a higher level of confidence but less precision in pinpointing the parameter.\n",
    "\n",
    "In summary, point estimates provide single-value approximations for unknown population parameters, while interval estimates offer a range of values along with a level of confidence, which provides a measure of uncertainty in the estimation process. Both methods are essential in inferential statistics to draw conclusions about populations based on sample data."
   ]
  },
  {
   "cell_type": "raw",
   "id": "f85d4c81-6c0f-466c-bc32-057c496def4d",
   "metadata": {},
   "source": [
    "Q2. Write a Python function to estimate the population mean using a sample mean and standard\n",
    "deviation.\n",
    "\n",
    "Ans--"
   ]
  },
  {
   "cell_type": "markdown",
   "id": "6f6b28da-70c8-43f7-a325-2117bc349cf5",
   "metadata": {},
   "source": [
    "To estimate the population mean using a sample mean and standard deviation, you can use the formula for the standard error of the mean (SEM) and then compute the confidence interval around the sample mean. Assuming a normal distribution and using a Z-score (for a large enough sample size), the formula for the confidence interval can be given as:\n",
    "\n",
    "Population Mean (μ) ≈ Sample Mean (x̄) ± Z * (Standard Deviation of Sample / √Sample Size)\n",
    "\n",
    "Where:\n",
    "\n",
    "Z is the Z-score corresponding to the desired level of confidence (e.g., 1.96 for a 95% confidence level).\n",
    "\n",
    "Sample Mean (x̄) and Standard Deviation of Sample are obtained from the sample data.\n",
    "\n",
    "√ represents the square root.\n",
    "\n",
    "Here's a Python function to estimate the population mean using a sample mean and standard deviation:"
   ]
  },
  {
   "cell_type": "code",
   "execution_count": 3,
   "id": "3a21a4cd-6444-4210-810a-64eaa5257e2c",
   "metadata": {},
   "outputs": [
    {
     "name": "stdout",
     "output_type": "stream",
     "text": [
      "Estimate population mean:85.6\n",
      "Confidence Interval(95%):(83.1892,88.01079999999999)\n"
     ]
    }
   ],
   "source": [
    "import math\n",
    "def estimate_population_mean(sample_mean,sample_std_dev,sample_size,confidence_level=0.95):\n",
    "    \n",
    "#Z-Score for given confidence level\n",
    "    z_score=1.96 #For 95% confedence level,use 1.96 (standard for a large enough sample size)\n",
    "#Compute the standard error of the mean(SEM)\n",
    "    sem=sample_std_dev/math.sqrt(sample_size)\n",
    "#Calculate the lower and upper bound of the confidence level\n",
    "    lower_bound=sample_mean-z_score*sem\n",
    "    upper_bound=sample_mean+z_score*sem\n",
    "    return lower_bound, upper_bound\n",
    "\n",
    "#Example usage:\n",
    "sample_mean=85.6\n",
    "sample_std_dev=12.3\n",
    "sample_size=100\n",
    "confidence_level=0.95\n",
    "\n",
    "lower_bound,upper_bound=estimate_population_mean(sample_mean,sample_std_dev,sample_size,confidence_level)\n",
    "\n",
    "print(f'Estimate population mean:{sample_mean}')\n",
    "print(f'Confidence Interval(95%):({lower_bound},{upper_bound})')"
   ]
  },
  {
   "cell_type": "markdown",
   "id": "9f8b39d4-c03b-4470-90d1-ce7a4dc81bec",
   "metadata": {},
   "source": [
    "In this example, the estimate_population_mean function takes the sample mean, sample standard deviation, and sample size as inputs, along with an optional parameter for the desired confidence level (default is 0.95 for 95% confidence). The function calculates the confidence interval using the formula described earlier and returns the lower and upper bounds of the interval. The result is printed to the console for interpretation."
   ]
  },
  {
   "cell_type": "raw",
   "id": "9cee1989-1a57-458b-a606-0aeed71a2b12",
   "metadata": {},
   "source": [
    "Q3: What is Hypothesis testing? Why is it used? State the importance of Hypothesis testing.\n",
    "\n",
    "Ans--"
   ]
  },
  {
   "cell_type": "markdown",
   "id": "eaf9a290-d8bb-42ba-a1c5-549d328e8a9c",
   "metadata": {},
   "source": [
    "Hypothesis testing is a statistical method used to make inferences about a population based on a sample of data. It involves formulating two competing hypotheses, the null hypothesis (H0) and the alternative hypothesis (H1), and then testing the sample data to determine which hypothesis is more likely to be true.\n",
    "\n",
    "The null hypothesis (H0) typically represents the status quo or the default assumption, suggesting that there is no significant effect or relationship in the population. On the other hand, the alternative hypothesis (H1) proposes that there is a specific effect or relationship that differs from the null hypothesis.\n",
    "\n",
    "The process of hypothesis testing involves the following steps:\n",
    "\n",
    "1.Formulating hypotheses: Defining the null and alternative hypotheses based on the research question or the problem at hand.\n",
    "\n",
    "2.Collecting data: Gathering a sample of data from the population of interest.\n",
    "\n",
    "3.Choosing a test statistic: Selecting an appropriate statistical test that will help determine the likelihood of the data supporting one hypothesis over the other.\n",
    "\n",
    "4.Setting a significance level: Specifying the threshold for accepting or rejecting the null hypothesis. Common significance levels are 0.05 or 0.01.\n",
    "\n",
    "5.Calculating p-value: Computing the probability of obtaining the observed results, or more extreme results, under the assumption that the null hypothesis is true.\n",
    "\n",
    "6.Making a decision: Comparing the p-value to the chosen significance level and either rejecting the null hypothesis in favor of the alternative hypothesis if the p-value is below the significance level or failing to reject the null hypothesis if the p-value is above the significance level.\n",
    "\n",
    "Importance of Hypothesis Testing:\n",
    "\n",
    "1.Drawing conclusions from data: Hypothesis testing allows researchers and data analysts to draw meaningful conclusions from the available data and make informed decisions based on statistical evidence.\n",
    "\n",
    "2.Evaluating significance: Hypothesis testing provides a way to determine if an observed effect or relationship in the sample is statistically significant, i.e., not likely to have occurred by chance.\n",
    "\n",
    "3.Testing research hypotheses: In scientific research, hypothesis testing is used to assess whether the results support or refute the proposed research hypotheses.\n",
    "\n",
    "4.Making informed decisions: In fields like medicine, economics, and engineering, hypothesis testing is crucial for determining the efficacy of treatments, assessing the impact of interventions, or evaluating the performance of products.\n",
    "\n",
    "5.Minimizing biases: By using statistical hypothesis testing, researchers can avoid making decisions based solely on intuition or personal beliefs, leading to more objective and data-driven conclusions.\n",
    "\n",
    "6.Generalizing findings: Hypothesis testing helps in generalizing the results from a sample to the entire population, provided the sample is appropriately chosen and representative.\n",
    "\n",
    "In summary, hypothesis testing is a fundamental tool in statistical analysis that enables researchers to make meaningful inferences, draw conclusions from data, and make informed decisions based on statistical evidence, rather than relying on intuition or chance."
   ]
  },
  {
   "cell_type": "raw",
   "id": "67740fca-da76-461e-b105-cb9b8115ca46",
   "metadata": {},
   "source": [
    "Q4. Create a hypothesis that states whether the average weight of male college students is greater than\n",
    "the average weight of female college students.\n",
    "\n",
    "Ans--"
   ]
  },
  {
   "cell_type": "markdown",
   "id": "d0396aa7-05b7-4ed6-9faa-15a0f39fd2a5",
   "metadata": {},
   "source": [
    "Hypothesis:\n",
    "\n",
    "Null Hypothesis (H0): The average weight of male college students is equal to or less than the average weight of female college students.\n",
    "\n",
    "Alternative Hypothesis (H1): The average weight of male college students is greater than the average weight of female college students.\n",
    "\n",
    "Symbolically, this can be represented as:\n",
    "\n",
    "H0: μ_male ≤ μ_female\n",
    "\n",
    "H1: μ_male > μ_female\n",
    "\n",
    "Where:\n",
    "\n",
    "μ_male represents the population mean weight of male college students.\n",
    "\n",
    "μ_female represents the population mean weight of female college students.\n",
    "\n",
    "The null hypothesis (H0) assumes that there is no significant difference in the average weight between male and female college students, while the alternative hypothesis (H1) suggests that there is a statistically significant difference, with male students having a greater average weight than female students.\n",
    "\n",
    "To test this hypothesis, a sample of male and female college students' weights would be collected, and a suitable statistical test (e.g., t-test or z-test) would be conducted to determine if there is enough evidence to reject the null hypothesis in favor of the alternative hypothesis based on the sample data."
   ]
  },
  {
   "cell_type": "raw",
   "id": "397f4fef-1bc2-4329-bfb0-ceb2a15c8c8d",
   "metadata": {},
   "source": [
    "Q5. Write a Python script to conduct a hypothesis test on the difference between two population means,\n",
    "given a sample from each population.\n",
    "\n",
    "Ans--"
   ]
  },
  {
   "cell_type": "markdown",
   "id": "363ffc8c-f151-47dc-9a8b-5295ff0e8bc8",
   "metadata": {},
   "source": [
    "To conduct a hypothesis test on the difference between two population means, we can use a t-test when the sample sizes are relatively small and the population standard deviations are unknown. If the sample sizes are large and the data approximates a normal distribution, we can use the Z-test. Here's a Python script using the scipy.stats module to perform both t-test and z-test based on the provided samples:"
   ]
  },
  {
   "cell_type": "code",
   "execution_count": 2,
   "id": "eaad4e8a-d321-4323-a756-0325c58702bc",
   "metadata": {},
   "outputs": [
    {
     "name": "stdout",
     "output_type": "stream",
     "text": [
      "Results of the Hypothesis Test:\n",
      "-------------------------------\n",
      "Sample 1 Mean: 75.5\n",
      "Sample 2 Mean: 65.5\n",
      "T-statistic: 6.324555320336758\n",
      "P-value: 8.038633399721776e-06\n",
      "Reject the null hypothesis (H0). There is significant evidence to support the alternative hypothesis (H1).\n"
     ]
    }
   ],
   "source": [
    "import numpy as np\n",
    "from scipy.stats import ttest_ind\n",
    "\n",
    "def hypothesis_test(sample1, sample2, alpha=0.05):\n",
    "    # Conducting independent t-test\n",
    "    t_stat, p_value = ttest_ind(sample1, sample2, equal_var=False)\n",
    "\n",
    "    # Print the results\n",
    "    print(\"Results of the Hypothesis Test:\")\n",
    "    print(\"-------------------------------\")\n",
    "    print(\"Sample 1 Mean:\", np.mean(sample1))\n",
    "    print(\"Sample 2 Mean:\", np.mean(sample2))\n",
    "    print(\"T-statistic:\", t_stat)\n",
    "    print(\"P-value:\", p_value)\n",
    "\n",
    "    # Checking the significance\n",
    "    if p_value < alpha:\n",
    "        print(\"Reject the null hypothesis (H0). There is significant evidence to support the alternative hypothesis (H1).\")\n",
    "    else:\n",
    "        print(\"Fail to reject the null hypothesis (H0). There is no significant evidence to support the alternative hypothesis (H1).\")\n",
    "\n",
    "if __name__ == \"__main__\":\n",
    "    # Replace these sample data with your actual samples from the two populations\n",
    "    sample1 = np.array([74, 68, 72, 79, 81, 77, 75, 73, 80, 76])\n",
    "    sample2 = np.array([62, 66, 68, 64, 70, 61, 65, 67, 63, 69])\n",
    "\n",
    "    # Set the significance level (alpha)\n",
    "    alpha = 0.05\n",
    "\n",
    "    # Call the hypothesis test function\n",
    "    hypothesis_test(sample1, sample2, alpha)\n"
   ]
  },
  {
   "cell_type": "markdown",
   "id": "f9be9deb-367d-4ef8-9d8c-be157c896568",
   "metadata": {},
   "source": [
    "In this script, we use NumPy to create the sample data for two populations (replace sample1 and sample2 with your actual sample data). The ttest_ind function from scipy.stats calculates the t-statistic and p-value for the independent t-test. The equal_var=False parameter specifies that the samples have unequal variances.\n",
    "\n",
    "Finally, we check whether the p-value is less than the significance level (alpha). If the p-value is less than alpha, we reject the null hypothesis and conclude that there is significant evidence to support the alternative hypothesis (the population means are different). Otherwise, if the p-value is greater than or equal to alpha, we fail to reject the null hypothesis (there is no significant evidence to support the alternative hypothesis)."
   ]
  },
  {
   "cell_type": "raw",
   "id": "edf13b43-d38c-4347-b5d2-97d8365905af",
   "metadata": {},
   "source": [
    "Q6: What is a null and alternative hypothesis? Give some examples.\n",
    "\n",
    "Ans--"
   ]
  },
  {
   "cell_type": "markdown",
   "id": "988923a3-3208-419a-8c50-0393aa5afba7",
   "metadata": {},
   "source": [
    "In statistical hypothesis testing, the null hypothesis (H0) and the alternative hypothesis (H1) are two competing statements about a population parameter or a relationship between variables. The purpose of hypothesis testing is to determine whether there is enough evidence in the sample data to support the alternative hypothesis, which suggests that there is a significant effect or relationship, or if we should stick with the null hypothesis, which assumes there is no significant effect or relationship.\n",
    "\n",
    "1.Example for a Null Hypothesis (H0):\n",
    "\n",
    "H0: The average height of male students is equal to 170 cm.\n",
    "\n",
    "In this example, the null hypothesis states that the population mean height of male students is 170 cm. This implies that any difference in the sample mean height from 170 cm is due to random sampling error rather than a real difference in the population.\n",
    "\n",
    "2.Example for an Alternative Hypothesis (H1):\n",
    "\n",
    "H1: The average height of male students is not equal to 170 cm.\n",
    "\n",
    "The alternative hypothesis proposes that there is a significant difference between the population mean height of male students and 170 cm. This suggests that the observed difference in the sample mean height is not just due to random chance but is representative of a real difference in the population.\n",
    "\n",
    "3.Example for a Null Hypothesis (H0):\n",
    "\n",
    "H0: There is no association between smoking and the risk of lung cancer.\n",
    "\n",
    "In this example, the null hypothesis posits that smoking has no effect on the risk of lung cancer. Any observed association between smoking and lung cancer in the sample data is considered to be due to chance.\n",
    "\n",
    "4.Example for an Alternative Hypothesis (H1):\n",
    "\n",
    "H1: Smoking is associated with an increased risk of lung cancer.\n",
    "\n",
    "The alternative hypothesis suggests that there is a significant association between smoking and the risk of lung cancer. This implies that the observed association in the sample data is not due to random variation but indicates a real link in the population.\n",
    "\n",
    "In each of these examples, the null hypothesis represents the default assumption or the absence of an effect, while the alternative hypothesis presents the statement of interest, suggesting the presence of a significant effect or relationship. Hypothesis testing helps determine which hypothesis is supported by the evidence in the sample data."
   ]
  },
  {
   "cell_type": "raw",
   "id": "6ea86bbc-6142-4692-9d60-52c712197c9e",
   "metadata": {},
   "source": [
    "Q7: Write down the steps involved in hypothesis testing.\n",
    "\n",
    "Ans--"
   ]
  },
  {
   "cell_type": "markdown",
   "id": "47cfeeb1-f974-44ab-bf14-be64ce69f9bc",
   "metadata": {},
   "source": [
    "Hypothesis testing is a systematic process used to make statistical inferences about a population based on sample data. The steps involved in hypothesis testing are as follows:\n",
    "\n",
    "1.Formulate the Null Hypothesis (H0) and Alternative Hypothesis (Ha):\n",
    "\n",
    "The first step is to clearly define the null hypothesis, denoted as H0, which assumes that there is no significant difference or effect between groups or variables being compared. The alternative hypothesis, denoted as Ha, states that there is a significant difference or effect.\n",
    "\n",
    "2.Choose the Significance Level (Alpha):\n",
    "\n",
    "The significance level, denoted as α (alpha), represents the threshold at which you are willing to reject the null hypothesis. Commonly used values for α are 0.05 (5%) or 0.01 (1%), but the choice of significance level depends on the specific study and its requirements.\n",
    "\n",
    "3.Select the Appropriate Test Statistic:\n",
    "\n",
    "The choice of the test statistic depends on the nature of the data and the research question being investigated. Commonly used test statistics include t-tests, z-tests, chi-square tests, F-tests, etc.\n",
    "\n",
    "4.Collect and Prepare Data:\n",
    "\n",
    "Obtain a representative sample from the population of interest and organize the data in a suitable format for analysis. Ensure that the sample is randomly selected and sufficiently large to draw meaningful conclusions.\n",
    "\n",
    "5.Compute the Test Statistic:\n",
    "\n",
    "Calculate the test statistic based on the data collected. The test statistic summarizes the observed difference or effect between the groups or variables being compared.\n",
    "\n",
    "6.Determine the p-value:\n",
    "\n",
    "The p-value is the probability of obtaining the observed test statistic or more extreme results if the null hypothesis (H0) is true. It quantifies the strength of evidence against the null hypothesis.\n",
    "\n",
    "7.Compare the p-value with the Significance Level:\n",
    "\n",
    "Compare the calculated p-value with the chosen significance level (α). If the p-value is less than or equal to α, you reject the null hypothesis in favor of the alternative hypothesis. If the p-value is greater than α, you fail to reject the null hypothesis.\n",
    "\n",
    "8.Draw Conclusions:\n",
    "\n",
    "Based on the comparison of the p-value with the significance level, interpret the results of the hypothesis test. If the null hypothesis is rejected, there is sufficient evidence to support the alternative hypothesis. If the null hypothesis is not rejected, there is not enough evidence to support the alternative hypothesis.\n",
    "\n",
    "9.Report Findings:\n",
    "\n",
    "Present the results of the hypothesis test along with the conclusions drawn in a clear and concise manner. Include information about the test used, the calculated test statistic, the p-value, and the interpretation of the results.\n",
    "\n",
    "It's essential to follow these steps carefully to ensure that the hypothesis test is conducted accurately and provides meaningful insights into the population being studied."
   ]
  },
  {
   "cell_type": "raw",
   "id": "a1d5a309-c40b-4aa7-b50c-a3e647ab2de1",
   "metadata": {},
   "source": [
    "Q8. Define p-value and explain its significance in hypothesis testing.\n",
    "\n",
    "Ans--"
   ]
  },
  {
   "cell_type": "markdown",
   "id": "582907d7-832e-48c2-b4d8-9a7cbcd15f04",
   "metadata": {},
   "source": [
    "In statistics, the p-value, short for \"probability value,\" is a crucial concept used in hypothesis testing. It measures the strength of evidence against the null hypothesis. The null hypothesis (H0) is a statement that assumes there is no significant difference or effect between groups or variables being compared. The alternative hypothesis (Ha), on the other hand, states that there is a significant difference or effect.\n",
    "\n",
    "Here's a step-by-step explanation of the significance of p-value in hypothesis testing:\n",
    "\n",
    "Formulate Hypotheses:\n",
    "\n",
    "Before conducting a statistical test, you have a null hypothesis (H0) and an alternative hypothesis (Ha) in mind. These hypotheses are formulated based on the research question or the problem you are investigating.\n",
    "\n",
    "Select a Test and Calculate Test Statistic:\n",
    "\n",
    "The next step is to choose an appropriate statistical test based on the type of data and the research question. The test will produce a test statistic (e.g., t-statistic, z-score, F-statistic, etc.), which summarizes the difference or effect observed between the groups or variables being compared.\n",
    "\n",
    "Obtain the p-value:\n",
    "\n",
    "The p-value is the probability of obtaining the observed test statistic or more extreme results if the null hypothesis (H0) is true. In other words, it measures the likelihood of the observed data occurring under the assumption that there is no true effect or difference between the groups.\n",
    "\n",
    "Compare the p-value to the Significance Level (Alpha):\n",
    "\n",
    "The significance level (also denoted as α) is a predetermined threshold, often set at 0.05 (5%), which represents the level of significance at which you are willing to reject the null hypothesis. If the p-value is less than or equal to α, you would reject the null hypothesis in favor of the alternative hypothesis. This suggests that there is significant evidence to support a difference or effect.\n",
    "\n",
    "Interpretation:\n",
    "\n",
    "If p-value ≤ α: Reject H0. There is enough evidence to support the alternative hypothesis. The result is considered statistically significant.\n",
    "\n",
    "If p-value > α: Fail to reject H0. There is not enough evidence to support the alternative hypothesis. The result is not considered statistically significant.\n",
    "\n",
    "It's important to note that a statistically nonsignificant result (p-value > α) does not mean the null hypothesis is true; it merely suggests that there is insufficient evidence to reject it. It is possible that the study lacked statistical power or that the effect is genuinely not present in the population being studied.\n",
    "\n",
    "In summary, the p-value plays a crucial role in hypothesis testing by quantifying the strength of evidence against the null hypothesis. It helps researchers make informed decisions about whether to accept or reject the null hypothesis based on the data collected during the study.\n",
    "\n",
    "\n",
    "\n",
    "\n",
    "\n",
    "\n"
   ]
  },
  {
   "cell_type": "raw",
   "id": "fc6e4426-a92b-4459-a017-6a9e258cd39c",
   "metadata": {},
   "source": [
    "Q9. Generate a Student's t-distribution plot using Python's matplotlib library, with the degrees of freedom\n",
    "parameter set to 10.\n",
    "\n",
    "Ans--"
   ]
  },
  {
   "cell_type": "markdown",
   "id": "780b1eec-a42e-4f05-aaeb-8287c6e71e12",
   "metadata": {},
   "source": [
    "To generate a Student's t-distribution plot with degrees of freedom set to 10 using Python's matplotlib library, you need to import the necessary libraries and then create the plot. Here's the code to do that:"
   ]
  },
  {
   "cell_type": "code",
   "execution_count": 5,
   "id": "fdc5d108-a007-448b-985c-26404729aeeb",
   "metadata": {},
   "outputs": [
    {
     "data": {
      "image/png": "[encoded data removed]",
      "text/plain": [
       "<Figure size 800x600 with 1 Axes>"
      ]
     },
     "metadata": {},
     "output_type": "display_data"
    }
   ],
   "source": [
    "import numpy as np\n",
    "import matplotlib.pyplot as plt\n",
    "from scipy.stats import t\n",
    "\n",
    "#Set Degree of Freedom\n",
    "degree_of_freedom = 10\n",
    "\n",
    "#Generate Data points for the x-axis(t-value)\n",
    "x=np.linspace(-5,5,500)\n",
    "\n",
    "# Calculate the corresponding probability density function (PDF) values for each t-value\n",
    "pdf_value = t.pdf(x,df=degree_of_freedom)\n",
    "\n",
    "#Plot the t-distribution\n",
    "plt.figure(figsize=(8,6))\n",
    "plt.plot(x,pdf_value,label=f't-distribution (df={degree_of_freedom})')\n",
    "plt.title(\"Student's t-distribution\")\n",
    "plt.xlabel(\"t-value\")\n",
    "plt.ylabel(\"Probability Densinty Function (PDF)\")\n",
    "plt.legend()\n",
    "plt.grid(True)\n",
    "plt.show()"
   ]
  },
  {
   "cell_type": "markdown",
   "id": "b9b061a5-8c99-41bb-849e-19c44ac285b1",
   "metadata": {},
   "source": [
    "In this code, we import the required libraries, set the degrees of freedom to 10, and generate data points along the x-axis (t-values). We then calculate the probability density function (PDF) for each t-value using the t.pdf() function from the scipy.stats module. Finally, we use matplotlib to create the plot, label the axes, add a title, and display the t-distribution plot.\n",
    "\n",
    "When you run this code, it will generate a plot showing the Student's t-distribution with degrees of freedom set to 10. The t-distribution is centered around 0 and has heavier tails compared to the standard normal distribution (when the degrees of freedom are greater than 1)."
   ]
  },
  {
   "cell_type": "raw",
   "id": "5330ca2d-92db-4465-9880-4c86d1c7cbb6",
   "metadata": {},
   "source": [
    "Q10. Write a Python program to calculate the two-sample t-test for independent samples, given two\n",
    "random samples of equal size and a null hypothesis that the population means are equal.\n",
    "\n",
    "Ans--"
   ]
  },
  {
   "cell_type": "markdown",
   "id": "00956567-812e-495c-85ed-0d39ca7d707a",
   "metadata": {},
   "source": [
    "To calculate the two-sample t-test for independent samples in Python, you can use the scipy.stats.ttest_ind() function from the SciPy library. This function performs a two-sided t-test for the null hypothesis that two independent samples have identical average (expected) values. Here's the Python program to calculate the t-test:"
   ]
  },
  {
   "cell_type": "code",
   "execution_count": 1,
   "id": "765acab3-b9b0-4dc5-b2b9-eefd0815e538",
   "metadata": {},
   "outputs": [
    {
     "name": "stdout",
     "output_type": "stream",
     "text": [
      "Requirement already satisfied: scipy in /opt/conda/lib/python3.10/site-packages (1.9.3)\n",
      "Requirement already satisfied: numpy<1.26.0,>=1.18.5 in /opt/conda/lib/python3.10/site-packages (from scipy) (1.23.5)\n",
      "Note: you may need to restart the kernel to use updated packages.\n"
     ]
    }
   ],
   "source": [
    "pip install scipy"
   ]
  },
  {
   "cell_type": "code",
   "execution_count": 2,
   "id": "932cb6a8-6490-46db-9cd9-aea00120cbbc",
   "metadata": {},
   "outputs": [
    {
     "name": "stdout",
     "output_type": "stream",
     "text": [
      "Two-sample t-test results:\n",
      "Sample 1 mean: 24.6\n",
      "Sample 2 mean: 23.5\n",
      "t-statistic: 0.6989705947523112\n",
      "p-value: 0.4935039073163612\n",
      "Null hypothesis cannot be rejected. The population means are likely equal.\n"
     ]
    }
   ],
   "source": [
    "import numpy as np\n",
    "from scipy import stats\n",
    "\n",
    "def two_sample_t_test(sample1, sample2):\n",
    "    # Calculate the t-statistic and p-value\n",
    "    t_statistic, p_value = stats.ttest_ind(sample1, sample2)\n",
    "\n",
    "    # Determine the significance level\n",
    "    alpha = 0.05\n",
    "\n",
    "    # Print the results\n",
    "    print(\"Two-sample t-test results:\")\n",
    "    print(\"Sample 1 mean:\", np.mean(sample1))\n",
    "    print(\"Sample 2 mean:\", np.mean(sample2))\n",
    "    print(\"t-statistic:\", t_statistic)\n",
    "    print(\"p-value:\", p_value)\n",
    "\n",
    "    # Check if the null hypothesis is rejected or not\n",
    "    if p_value < alpha:\n",
    "        print(\"Null hypothesis rejected. The population means are likely different.\")\n",
    "    else:\n",
    "        print(\"Null hypothesis cannot be rejected. The population means are likely equal.\")\n",
    "\n",
    "# Example usage:\n",
    "if __name__ == \"__main__\":\n",
    "    # Replace sample1_data and sample2_data with your two random samples of equal size\n",
    "    sample1_data = np.array([22, 18, 25, 24, 28, 29, 30, 20, 23, 27])\n",
    "    sample2_data = np.array([19, 20, 21, 23, 22, 25, 26, 24, 27, 28])\n",
    "\n",
    "    two_sample_t_test(sample1_data, sample2_data)\n"
   ]
  },
  {
   "cell_type": "markdown",
   "id": "5c8855cd-1739-4fad-842f-77f5d19b4abd",
   "metadata": {},
   "source": [
    "In this program, sample1_data and sample2_data should be replaced with your actual data for the two samples of equal size. The t-test will then be performed, and the results will indicate whether the null hypothesis (that the population means are equal) can be rejected or not, based on the given significance level (alpha)."
   ]
  },
  {
   "cell_type": "raw",
   "id": "f017e0e0-5474-4e56-91b2-0ac21e27fb8e",
   "metadata": {},
   "source": [
    "Q11: What is Student’s t distribution? When to use the t-Distribution.\n",
    "\n",
    "Ans--"
   ]
  },
  {
   "cell_type": "markdown",
   "id": "b4d4892f-c572-49d1-b05a-9c5c72c7d667",
   "metadata": {},
   "source": [
    "Student's t-distribution, also known as the t-distribution, is a probability distribution that arises in the context of statistical inference when the population standard deviation is unknown and must be estimated from the sample. It is named after William Gosset, who used the pseudonym \"Student\" when publishing his work on the t-distribution in 1908.\n",
    "\n",
    "The t-distribution is very similar in shape to the standard normal (Z) distribution, which is a normal distribution with a mean of 0 and a standard deviation of 1. However, the t-distribution has fatter tails, meaning that it has more probability in the tails compared to the normal distribution. The shape of the t-distribution depends on a parameter called degrees of freedom (df).\n",
    "\n",
    "Degrees of freedom (df) in the t-distribution are related to the sample size (n). For a given sample size, the t-distribution becomes more like the standard normal distribution as the degrees of freedom increase. As the sample size increases, the t-distribution converges to the standard normal distribution.\n",
    "\n",
    "The t-distribution is used in situations where the sample size is small, and the population standard deviation is unknown. It is commonly used for hypothesis testing and constructing confidence intervals for the mean of a population when the sample size is small (typically n < 30). In such cases, the t-distribution provides a better approximation to the sampling distribution of the sample mean compared to the normal distribution, which assumes a known population standard deviation.\n",
    "\n",
    "When to use the t-distribution:\n",
    "\n",
    "1.When the sample size is small (n < 30) and the population standard deviation is unknown.\n",
    "\n",
    "2.When performing hypothesis tests or constructing confidence intervals for the population mean using sample data.\n",
    "\n",
    "As the sample size increases and approaches larger values, the t-distribution becomes less distinguishable from the standard normal distribution. When the sample size is sufficiently large (usually n ≥ 30) and the population standard deviation is unknown, it is common to use the standard normal distribution (Z-distribution) instead of the t-distribution for practical purposes."
   ]
  },
  {
   "cell_type": "raw",
   "id": "71801275-c40a-4963-aaa5-438f8b30ad45",
   "metadata": {},
   "source": [
    "Q12: What is t-statistic? State the formula for t-statistic.\n",
    "\n",
    "Ans--"
   ]
  },
  {
   "cell_type": "markdown",
   "id": "cb3ca09e-385f-43ee-815d-126fc1201171",
   "metadata": {},
   "source": [
    "The t-statistic (also known as the t-value) is a measure used in hypothesis testing to determine the significance of the difference between the means of two groups (independent samples) or the mean of a sample compared to a known population mean when the population standard deviation is unknown and must be estimated from the sample. It quantifies how many standard errors the sample mean is away from the hypothesized population mean.\n",
    "\n",
    "For a two-sample t-test, the t-statistic is calculated as follows:\n",
    "\n",
    "t = (x̄1 - x̄2) / sqrt((s1^2 / n1) + (s2^2 / n2))\n",
    "\n",
    "where:\n",
    "\n",
    "1.x̄1 and x̄2 are the sample means of the two groups.\n",
    "\n",
    "2.s1 and s2 are the sample standard deviations of the two groups.\n",
    "\n",
    "3.n1 and n2 are the sample sizes of the two groups.\n",
    "\n",
    "For a one-sample t-test (testing the mean of a single sample against a known population mean), the t-statistic is calculated as follows:\n",
    "\n",
    "t = (x̄ - μ) / (s / sqrt(n))\n",
    "\n",
    "where:\n",
    "\n",
    "x̄ is the sample mean.\n",
    "\n",
    "μ is the hypothesized population mean.\n",
    "\n",
    "s is the sample standard deviation.\n",
    "\n",
    "n is the sample size.\n",
    "\n",
    "In both cases, the t-statistic measures how far the sample mean(s) deviate from the hypothesized population mean (or from each other, in the case of a two-sample t-test), taking into account the variability within the sample(s). A larger absolute value of t indicates a more significant difference between the sample mean(s) and the population mean or between the two sample means, which could lead to the rejection of the null hypothesis in favor of the alternative hypothesis in a hypothesis test. The critical value of t depends on the chosen significance level and the degrees of freedom associated with the t-distribution."
   ]
  },
  {
   "cell_type": "raw",
   "id": "fb5ed7dc-928a-4dd1-b769-0073c8998e29",
   "metadata": {},
   "source": [
    "Q13. A coffee shop owner wants to estimate the average daily revenue for their shop. They take a random\n",
    "sample of 50 days and find the sample mean revenue to be $500 with a standard deviation of $50.\n",
    "Estimate the population mean revenue with a 95% confidence interval.\n",
    "\n",
    "Ans--"
   ]
  },
  {
   "cell_type": "markdown",
   "id": "e83b574f-431b-4074-aa63-1b7ecab72e77",
   "metadata": {},
   "source": [
    "To estimate the population mean revenue with a 95% confidence interval, we can use the t-distribution since the population standard deviation is unknown and has to be estimated from the sample. The formula for the confidence interval is:\n",
    "\n",
    "Confidence Interval = Sample Mean ± (Critical Value) * (Standard Error)\n",
    "\n",
    "where:\n",
    "\n",
    "Sample Mean: $500 (Given in the problem)\n",
    "\n",
    "Standard Error: Sample Standard Deviation / sqrt(Sample Size)\n",
    "\n",
    "Critical Value: The value obtained from the t-distribution table for a 95% confidence level and 49 degrees of freedom (50 - 1 = 49, as there are 50 days in the sample).\n",
    "\n",
    "Let's calculate the confidence interval:"
   ]
  },
  {
   "cell_type": "code",
   "execution_count": 7,
   "id": "53eab968-de09-4a24-a3ab-7ade90528a44",
   "metadata": {},
   "outputs": [
    {
     "name": "stdout",
     "output_type": "stream",
     "text": [
      "Population mean revenue estimate with a  95.0% confidence interval:\n",
      "Lower bound: $485.79\n",
      "Upper bound: $514.21\n"
     ]
    }
   ],
   "source": [
    "import numpy as np\n",
    "from scipy import stats\n",
    "\n",
    "# Given Data\n",
    "sample_mean=500\n",
    "sample_std_dev=50\n",
    "sample_size=50\n",
    "confidence_level=0.95\n",
    "\n",
    "# Calculate critical value\n",
    "degree_of_freedom = sample_size-1\n",
    "critical_value = stats.t.ppf((1+confidence_level)/2, df = degree_of_freedom)\n",
    "\n",
    "# Calculate the standard error\n",
    "standard_error=sample_std_dev/np.sqrt(sample_size)\n",
    "\n",
    "# Calculate the confidence interval\n",
    "lower_bound=sample_mean-critical_value*standard_error\n",
    "upper_bound=sample_mean+critical_value*standard_error\n",
    "\n",
    "# Display the results\n",
    "print(f\"Population mean revenue estimate with a {confidence_level*100: .1f}% confidence interval:\")\n",
    "print(f\"Lower bound: ${lower_bound:.2f}\")\n",
    "print(f\"Upper bound: ${upper_bound:.2f}\")"
   ]
  },
  {
   "cell_type": "markdown",
   "id": "50017cc9-e7ec-4526-a4da-50dc7ff65879",
   "metadata": {},
   "source": [
    "In this code, we first calculate the critical value using stats.t.ppf() from SciPy. The function stats.t.ppf() returns the value for a given probability (in this case, (1 + confidence_level) / 2) and degrees of freedom. Then, we calculate the standard error using the formula mentioned earlier, and finally, we compute the confidence interval using the sample mean and the critical value.\n",
    "\n",
    "Keep in mind that this confidence interval will capture the population mean revenue with a 95% probability based on the given sample data and assuming the underlying data follows the t-distribution."
   ]
  },
  {
   "cell_type": "raw",
   "id": "2cae981e-4d15-436e-91f2-31c99142deb8",
   "metadata": {},
   "source": [
    "Q14. A researcher hypothesizes that a new drug will decrease blood pressure by 10 mmHg. They conduct a\n",
    "clinical trial with 100 patients and find that the sample mean decrease in blood pressure is 8 mmHg with a\n",
    "standard deviation of 3 mmHg. Test the hypothesis with a significance level of 0.05.\n",
    "\n",
    "Ans--"
   ]
  },
  {
   "cell_type": "markdown",
   "id": "cefaeb2f-9f90-454a-a7af-65916893f36c",
   "metadata": {},
   "source": [
    "To test the hypothesis that the new drug decreases blood pressure by 10 mmHg with a significance level of 0.05, we will perform a one-sample t-test. The null hypothesis (H0) is that the drug does not decrease blood pressure by 10 mmHg, and the alternative hypothesis (H1) is that the drug does decrease blood pressure by 10 mmHg.\n",
    "\n",
    "The one-sample t-test formula is:\n",
    "\n",
    "t = (Sample Mean - Hypothesized Mean) / (Sample Standard Deviation / sqrt(Sample Size))\n",
    "\n",
    "where:\n",
    "\n",
    "Sample Mean: 8 mmHg (given in the problem)\n",
    "\n",
    "Hypothesized Mean: 10 mmHg (given in the problem)\n",
    "\n",
    "Sample Standard Deviation: 3 mmHg (given in the problem)\n",
    "\n",
    "Sample Size: 100 (given in the problem)\n",
    "\n",
    "Let's calculate the t-value and compare it with the critical t-value at the 0.05 significance level to determine whether we reject or fail to reject the null hypothesis:"
   ]
  },
  {
   "cell_type": "code",
   "execution_count": 9,
   "id": "1e11df39-652a-4a03-9c5a-793126bc949b",
   "metadata": {},
   "outputs": [
    {
     "name": "stdout",
     "output_type": "stream",
     "text": [
      "Reject the null hypothesis.The new drug decreases blood pressure.\n"
     ]
    }
   ],
   "source": [
    "import numpy as np\n",
    "from scipy import stats\n",
    "\n",
    "# Given data\n",
    "sample_mean=8\n",
    "hypothesized_mean=10\n",
    "sample_std_dev=3\n",
    "sample_size=100\n",
    "significance_level=0.05\n",
    "\n",
    "#Calculate t-value\n",
    "t_value=(sample_mean-hypothesized_mean)/(sample_std_dev/np.sqrt(sample_size))\n",
    "\n",
    "#Calculate the degree of freedom\n",
    "degree_of_freedom=sample_size-1\n",
    "\n",
    "#Calculate the critical t-value for a one-tailed test(left tailed)\n",
    "critical_t_value=stats.t.ppf(significance_level,df=degree_of_freedom)\n",
    "\n",
    "#Perform the one-tailed t-test\n",
    "if t_value<critical_t_value:\n",
    "    print(\"Reject the null hypothesis.The new drug decreases blood pressure.\")\n",
    "else:\n",
    "    print(\"Fail to reject the null hypothesis. The new drug does not decrease blood pressure.\")"
   ]
  },
  {
   "cell_type": "markdown",
   "id": "e3b22dbc-b9f0-499c-9eec-3f72f09c4f7b",
   "metadata": {},
   "source": [
    "In this code, we first calculate the t-value using the one-sample t-test formula. Then, we calculate the critical t-value for a one-tailed test at the 0.05 significance level using the stats.t.ppf() function from SciPy. Finally, we compare the t-value with the critical t-value to determine whether to reject or fail to reject the null hypothesis.\n",
    "\n",
    "Note: Since the researcher is hypothesizing a decrease in blood pressure, this is a one-tailed test (specifically, a left-tailed test). If the null hypothesis stated no difference or an increase in blood pressure, it would be a two-tailed test, and the critical t-value would be different."
   ]
  },
  {
   "cell_type": "raw",
   "id": "f0497942-b412-4c27-8ae7-cd9c70f60318",
   "metadata": {},
   "source": [
    "Q15. An electronics company produces a certain type of product with a mean weight of 5 pounds and a\n",
    "standard deviation of 0.5 pounds. A random sample of 25 products is taken, and the sample mean weight\n",
    "is found to be 4.8 pounds. Test the hypothesis that the true mean weight of the products is less than 5\n",
    "pounds with a significance level of 0.01.\n",
    "\n",
    "Ans--"
   ]
  },
  {
   "cell_type": "markdown",
   "id": "923fadff-ef8f-443e-95f7-40912bb7d532",
   "metadata": {},
   "source": [
    "To test the hypothesis that the true mean weight of the products is less than 5 pounds, we can use a one-sample t-test since we know the population standard deviation and the sample size is large (n = 25).\n",
    "\n",
    "Here are the steps to perform the hypothesis test:\n",
    "\n",
    "Step 1: State the null and alternative hypotheses:\n",
    "\n",
    "Null hypothesis (H0): The true mean weight of the products is 5 pounds.\n",
    "\n",
    "Alternative hypothesis (Ha): The true mean weight of the products is less than 5 pounds.\n",
    "\n",
    "Step 2: Set the significance level (α):\n",
    "\n",
    "The significance level (α) is given as 0.01.\n",
    "\n",
    "Step 3: Calculate the test statistic:\n",
    "\n",
    "The test statistic for a one-sample t-test is given by:\n",
    "\n",
    "t = (x̄ - μ) / (s / √n)\n",
    "\n",
    "Where:\n",
    "x̄ is the sample mean (4.8 pounds),\n",
    "μ is the hypothesized population mean under the null hypothesis (5 pounds),\n",
    "s is the population standard deviation (0.5 pounds),\n",
    "n is the sample size (25).\n",
    "\n",
    "Step 4: Find the critical value:\n",
    "Since this is a one-tailed test (we're testing if the true mean weight is less than 5 pounds), we need to find the critical t-value that corresponds to the significance level (α = 0.01) and the degrees of freedom (df = n - 1 = 25 - 1 = 24). You can use a t-table or statistical software to find this value. Let's assume the critical t-value is -2.492.\n",
    "\n",
    "Step 5: Compare the test statistic with the critical value:\n",
    "If the test statistic is less than the critical value, we reject the null hypothesis; otherwise, we fail to reject the null hypothesis.\n",
    "\n",
    "Step 6: Make a decision and interpret the results:\n",
    "Compare the calculated test statistic with the critical value:\n",
    "\n",
    "t = (4.8 - 5) / (0.5 / √25)\n",
    "t = -2 / (0.5 / 5)\n",
    "t = -2 / 0.1\n",
    "t = -20\n",
    "\n",
    "Since the calculated test statistic (-20) is less than the critical value (-2.492), we reject the null hypothesis.\n",
    "\n",
    "Step 7: State the conclusion:\n",
    "Based on the sample data and the significance level of 0.01, there is enough evidence to suggest that the true mean weight of the products is less than 5 pounds."
   ]
  },
  {
   "cell_type": "raw",
   "id": "e8c48090-48db-47e7-913a-69d05420b053",
   "metadata": {},
   "source": [
    "Q16. Two groups of students are given different study materials to prepare for a test. The first group (n1 =\n",
    "30) has a mean score of 80 with a standard deviation of 10, and the second group (n2 = 40) has a mean\n",
    "score of 75 with a standard deviation of 8. Test the hypothesis that the population means for the two\n",
    "groups are equal with a significance level of 0.01.\n",
    "\n",
    "Ans--"
   ]
  },
  {
   "cell_type": "markdown",
   "id": "1381965c-0952-4d23-9040-4110711f9406",
   "metadata": {},
   "source": [
    "To test the hypothesis that the population means for the two groups are equal, we can use a two-sample t-test since we have two independent groups.\n",
    "\n",
    "Here are the steps to perform the hypothesis test:\n",
    "\n",
    "Step 1: State the null and alternative hypotheses:\n",
    "\n",
    "Null hypothesis (H0): The population means for the two groups are equal (μ1 = μ2).\n",
    "Alternative hypothesis (Ha): The population means for the two groups are not equal (μ1 ≠ μ2).\n",
    "Step 2: Set the significance level (α):\n",
    "The significance level (α) is given as 0.01.\n",
    "\n",
    "Step 3: Calculate the test statistic:\n",
    "The test statistic for a two-sample t-test is given by:\n",
    "\n",
    "t = (x̄1 - x̄2) / √((s1²/n1) + (s2²/n2))\n",
    "\n",
    "Where:\n",
    "x̄1 is the sample mean for the first group (80),\n",
    "x̄2 is the sample mean for the second group (75),\n",
    "s1 is the sample standard deviation for the first group (10),\n",
    "s2 is the sample standard deviation for the second group (8),\n",
    "n1 is the sample size for the first group (30),\n",
    "n2 is the sample size for the second group (40).\n",
    "\n",
    "Step 4: Find the critical value:\n",
    "Since this is a two-tailed test (we're testing if the population means are not equal), we need to find the critical t-value that corresponds to the significance level (α/2 = 0.01/2 = 0.005) and the degrees of freedom (df = n1 + n2 - 2 = 30 + 40 - 2 = 68). You can use a t-table or statistical software to find this value. Let's assume the critical t-value is ±2.656.\n",
    "\n",
    "Step 5: Compare the test statistic with the critical value:\n",
    "If the absolute value of the test statistic is greater than the critical value, we reject the null hypothesis; otherwise, we fail to reject the null hypothesis.\n",
    "\n",
    "Step 6: Make a decision and interpret the results:\n",
    "Calculate the test statistic:\n",
    "\n",
    "t = (80 - 75) / √((10²/30) + (8²/40))\n",
    "t = 5 / √((100/30) + (64/40))\n",
    "t = 5 / √(3.333 + 1.6)\n",
    "t = 5 / √4.933\n",
    "t = 5 / 2.219\n",
    "t ≈ 2.253\n",
    "\n",
    "Since the absolute value of the calculated test statistic (2.253) is greater than the critical value (2.656), we reject the null hypothesis.\n",
    "\n",
    "Step 7: State the conclusion:\n",
    "Based on the sample data and the significance level of 0.01, there is enough evidence to suggest that the population means for the two groups are not equal."
   ]
  },
  {
   "cell_type": "raw",
   "id": "de030535-1565-4a18-a027-a58ed030136e",
   "metadata": {},
   "source": [
    "Q17. A marketing company wants to estimate the average number of ads watched by viewers during a TV\n",
    "program. They take a random sample of 50 viewers and find that the sample mean is 4 with a standard\n",
    "deviation of 1.5. Estimate the population mean with a 99% confidence interval.\n",
    "\n"
   ]
  }
 ],
 "metadata": {
  "kernelspec": {
   "display_name": "Python 3 (ipykernel)",
   "language": "python",
   "name": "python3"
  },
  "language_info": {
   "codemirror_mode": {
    "name": "ipython",
    "version": 3
   },
   "file_extension": ".py",
   "mimetype": "text/x-python",
   "name": "python",
   "nbconvert_exporter": "python",
   "pygments_lexer": "ipython3",
   "version": "3.10.8"
  }
 },
 "nbformat": 4,
 "nbformat_minor": 5
}
